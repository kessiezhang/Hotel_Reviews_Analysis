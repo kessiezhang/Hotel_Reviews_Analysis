{
 "cells": [
  {
   "cell_type": "code",
   "execution_count": 1,
   "metadata": {},
   "outputs": [],
   "source": [
    "import pandas as pd\n",
    "import os\n",
    "import re\n",
    "import numpy as np\n",
    "import pickle\n",
    "from nltk import FreqDist\n",
    "import seaborn as sns\n",
    "import matplotlib.pyplot as plt\n",
    "%matplotlib inline\n",
    "from sklearn.feature_extraction.text import CountVectorizer\n",
    "from sklearn.model_selection import GridSearchCV\n",
    "from sklearn.linear_model import LogisticRegression"
   ]
  },
  {
   "cell_type": "markdown",
   "metadata": {},
   "source": [
    "## TOPIC MODELLING"
   ]
  },
  {
   "cell_type": "code",
   "execution_count": 2,
   "metadata": {},
   "outputs": [],
   "source": [
    "final_concat_reviews=pd.read_pickle('final_concat_reviews.pkl', compression='infer')"
   ]
  },
  {
   "cell_type": "code",
   "execution_count": 207,
   "metadata": {},
   "outputs": [
    {
     "data": {
      "text/html": [
       "<div>\n",
       "<style scoped>\n",
       "    .dataframe tbody tr th:only-of-type {\n",
       "        vertical-align: middle;\n",
       "    }\n",
       "\n",
       "    .dataframe tbody tr th {\n",
       "        vertical-align: top;\n",
       "    }\n",
       "\n",
       "    .dataframe thead th {\n",
       "        text-align: right;\n",
       "    }\n",
       "</style>\n",
       "<table border=\"1\" class=\"dataframe\">\n",
       "  <thead>\n",
       "    <tr style=\"text-align: right;\">\n",
       "      <th></th>\n",
       "      <th>offering_id</th>\n",
       "      <th>name</th>\n",
       "      <th>latitude</th>\n",
       "      <th>longitude</th>\n",
       "      <th>adj_word</th>\n",
       "      <th>category</th>\n",
       "      <th>pros</th>\n",
       "      <th>cons</th>\n",
       "      <th>pro_words</th>\n",
       "      <th>con_words</th>\n",
       "      <th>num_review</th>\n",
       "    </tr>\n",
       "  </thead>\n",
       "  <tbody>\n",
       "    <tr>\n",
       "      <td>0</td>\n",
       "      <td>72572</td>\n",
       "      <td>BEST WESTERN PLUS Pioneer Square Hotel</td>\n",
       "      <td>47.601616</td>\n",
       "      <td>-122.335257</td>\n",
       "      <td>[make unplanned visit due passport expensive p...</td>\n",
       "      <td>[1, 1, 1, 1, 1, 1, 1, 1, 1, 1, 1, 1, 0, 1, 1, ...</td>\n",
       "      <td>[(732, staff helpful), (727, staff friendly), ...</td>\n",
       "      <td>[(749, staff wonderful), (738, staff helpful p...</td>\n",
       "      <td>staff helpful, staff friendly, room clean, lig...</td>\n",
       "      <td>staff wonderful, staff helpful parking, rate r...</td>\n",
       "      <td>250</td>\n",
       "    </tr>\n",
       "    <tr>\n",
       "      <td>1</td>\n",
       "      <td>72579</td>\n",
       "      <td>BEST WESTERN Loyal Inn</td>\n",
       "      <td>47.618108</td>\n",
       "      <td>-122.341253</td>\n",
       "      <td>[night room room bf clean comfortable room tv ...</td>\n",
       "      <td>[1, 1, 1, 1, 1, 1, 1, 1, 0, 1, 1, 1, 1, 1, 1, ...</td>\n",
       "      <td>[(240, staff helpful), (212, room spacious), (...</td>\n",
       "      <td>[(242, staff room), (231, smoking room), (230,...</td>\n",
       "      <td>staff helpful, room spacious, room clean, grea...</td>\n",
       "      <td>staff room, smoking room, size room, size doub...</td>\n",
       "      <td>108</td>\n",
       "    </tr>\n",
       "    <tr>\n",
       "      <td>2</td>\n",
       "      <td>72586</td>\n",
       "      <td>BEST WESTERN PLUS Executive Inn</td>\n",
       "      <td>47.620324</td>\n",
       "      <td>-122.345896</td>\n",
       "      <td>[beautiful night photography ask room view sta...</td>\n",
       "      <td>[1, 1, 1, 1, 1, 0, 1, 1, 1, 1, 1, 1, 1, 0, 0, ...</td>\n",
       "      <td>[(320, staff helpful), (308, spacious clean), ...</td>\n",
       "      <td>[(347, wide open), (336, view lot), (270, room...</td>\n",
       "      <td>staff helpful, spacious clean, room clean, gre...</td>\n",
       "      <td>wide open, view lot, room key, previous night,...</td>\n",
       "      <td>134</td>\n",
       "    </tr>\n",
       "    <tr>\n",
       "      <td>3</td>\n",
       "      <td>100504</td>\n",
       "      <td>Hotel Monaco Seattle - a Kimpton Hotel</td>\n",
       "      <td>47.606920</td>\n",
       "      <td>-122.334114</td>\n",
       "      <td>[wonderful feeling little guilty great price p...</td>\n",
       "      <td>[1, 1, 1, 1, 1, 1, 1, 1, 1, 1, 1, 1, 1, 1, 1, ...</td>\n",
       "      <td>[(1863, wine hour), (1693, th floor), (1613, s...</td>\n",
       "      <td>[(1650, stayed business), (1636, staff service...</td>\n",
       "      <td>wine hour, th floor, staff helpful, staff frie...</td>\n",
       "      <td>stayed business, staff service, staff customer...</td>\n",
       "      <td>466</td>\n",
       "    </tr>\n",
       "    <tr>\n",
       "      <td>4</td>\n",
       "      <td>100505</td>\n",
       "      <td>Warwick Seattle Hotel</td>\n",
       "      <td>47.613938</td>\n",
       "      <td>-122.340963</td>\n",
       "      <td>[short weekend able get free room airline plea...</td>\n",
       "      <td>[1, 1, 1, 1, 1, 1, 1, 1, 1, 1, 1, 1, 1, 0, 1, ...</td>\n",
       "      <td>[(1127, staff helpful), (1124, staff great), (...</td>\n",
       "      <td>[(1183, time reservation), (1033, second floor...</td>\n",
       "      <td>staff helpful, staff great, room view, room re...</td>\n",
       "      <td>time reservation, second floor, room room, roo...</td>\n",
       "      <td>353</td>\n",
       "    </tr>\n",
       "  </tbody>\n",
       "</table>\n",
       "</div>"
      ],
      "text/plain": [
       "   offering_id                                    name   latitude   longitude  \\\n",
       "0        72572  BEST WESTERN PLUS Pioneer Square Hotel  47.601616 -122.335257   \n",
       "1        72579                  BEST WESTERN Loyal Inn  47.618108 -122.341253   \n",
       "2        72586         BEST WESTERN PLUS Executive Inn  47.620324 -122.345896   \n",
       "3       100504  Hotel Monaco Seattle - a Kimpton Hotel  47.606920 -122.334114   \n",
       "4       100505                   Warwick Seattle Hotel  47.613938 -122.340963   \n",
       "\n",
       "                                            adj_word  \\\n",
       "0  [make unplanned visit due passport expensive p...   \n",
       "1  [night room room bf clean comfortable room tv ...   \n",
       "2  [beautiful night photography ask room view sta...   \n",
       "3  [wonderful feeling little guilty great price p...   \n",
       "4  [short weekend able get free room airline plea...   \n",
       "\n",
       "                                            category  \\\n",
       "0  [1, 1, 1, 1, 1, 1, 1, 1, 1, 1, 1, 1, 0, 1, 1, ...   \n",
       "1  [1, 1, 1, 1, 1, 1, 1, 1, 0, 1, 1, 1, 1, 1, 1, ...   \n",
       "2  [1, 1, 1, 1, 1, 0, 1, 1, 1, 1, 1, 1, 1, 0, 0, ...   \n",
       "3  [1, 1, 1, 1, 1, 1, 1, 1, 1, 1, 1, 1, 1, 1, 1, ...   \n",
       "4  [1, 1, 1, 1, 1, 1, 1, 1, 1, 1, 1, 1, 1, 0, 1, ...   \n",
       "\n",
       "                                                pros  \\\n",
       "0  [(732, staff helpful), (727, staff friendly), ...   \n",
       "1  [(240, staff helpful), (212, room spacious), (...   \n",
       "2  [(320, staff helpful), (308, spacious clean), ...   \n",
       "3  [(1863, wine hour), (1693, th floor), (1613, s...   \n",
       "4  [(1127, staff helpful), (1124, staff great), (...   \n",
       "\n",
       "                                                cons  \\\n",
       "0  [(749, staff wonderful), (738, staff helpful p...   \n",
       "1  [(242, staff room), (231, smoking room), (230,...   \n",
       "2  [(347, wide open), (336, view lot), (270, room...   \n",
       "3  [(1650, stayed business), (1636, staff service...   \n",
       "4  [(1183, time reservation), (1033, second floor...   \n",
       "\n",
       "                                           pro_words  \\\n",
       "0  staff helpful, staff friendly, room clean, lig...   \n",
       "1  staff helpful, room spacious, room clean, grea...   \n",
       "2  staff helpful, spacious clean, room clean, gre...   \n",
       "3  wine hour, th floor, staff helpful, staff frie...   \n",
       "4  staff helpful, staff great, room view, room re...   \n",
       "\n",
       "                                           con_words  num_review  \n",
       "0  staff wonderful, staff helpful parking, rate r...         250  \n",
       "1  staff room, smoking room, size room, size doub...         108  \n",
       "2  wide open, view lot, room key, previous night,...         134  \n",
       "3  stayed business, staff service, staff customer...         466  \n",
       "4  time reservation, second floor, room room, roo...         353  "
      ]
     },
     "execution_count": 207,
     "metadata": {},
     "output_type": "execute_result"
    }
   ],
   "source": [
    "final_concat_reviews.head()"
   ]
  },
  {
   "cell_type": "code",
   "execution_count": 3,
   "metadata": {},
   "outputs": [],
   "source": [
    "documents=final_concat_reviews.loc[:,['offering_id','name','pro_words','con_words']]"
   ]
  },
  {
   "cell_type": "code",
   "execution_count": 4,
   "metadata": {},
   "outputs": [],
   "source": [
    "#load stop_words\n",
    "with open('stop_words.pkl', 'rb') as f:\n",
    "       stop_words = pickle.load(f)"
   ]
  },
  {
   "cell_type": "code",
   "execution_count": 5,
   "metadata": {},
   "outputs": [],
   "source": [
    "from nltk.stem import WordNetLemmatizer \n",
    "\n",
    "#let's preprocess the stopw_words\n",
    "def lemma_words(text):\n",
    "    text = text.split()\n",
    "    lemmatizer = WordNetLemmatizer()\n",
    "    lemma_words = [lemmatizer.lemmatize(word) for word in text]\n",
    "    text = \" \".join(lemma_words)\n",
    "    return text"
   ]
  },
  {
   "cell_type": "code",
   "execution_count": 6,
   "metadata": {},
   "outputs": [],
   "source": [
    "#lemmartize the stop_words\n",
    "stop_words=[lemma_words(x) for x in stop_words]"
   ]
  },
  {
   "cell_type": "code",
   "execution_count": 8,
   "metadata": {},
   "outputs": [
    {
     "name": "stderr",
     "output_type": "stream",
     "text": [
      "/Users/kessiezhang/Desktop/TextMining/.env/lib/python3.7/site-packages/sklearn/feature_extraction/text.py:300: UserWarning: Your stop_words may be inconsistent with your preprocessing. Tokenizing the stop words generated tokens ['sea', 'tac', 'tukwila'] not in stop_words.\n",
      "  'stop_words.' % sorted(inconsistent))\n"
     ]
    }
   ],
   "source": [
    "from sklearn.feature_extraction.text import TfidfVectorizer\n",
    "tf = TfidfVectorizer(analyzer='word',stop_words=stop_words, ngram_range=(2, 3), min_df=5,max_df=0.5)\n",
    "tf_word = tf.fit_transform(documents.pro_words)"
   ]
  },
  {
   "cell_type": "code",
   "execution_count": 20,
   "metadata": {
    "scrolled": false
   },
   "outputs": [
    {
     "name": "stderr",
     "output_type": "stream",
     "text": [
      "/Users/kessiezhang/Desktop/TextMining/.env/lib/python3.7/site-packages/sklearn/feature_extraction/text.py:300: UserWarning: Your stop_words may be inconsistent with your preprocessing. Tokenizing the stop words generated tokens ['sea', 'tac', 'tukwila'] not in stop_words.\n",
      "  'stop_words.' % sorted(inconsistent))\n"
     ]
    }
   ],
   "source": [
    "from sklearn.feature_extraction.text import CountVectorizer\n",
    "\n",
    "vectorizer = CountVectorizer(stop_words=stop_words, ngram_range = (2,3), min_df = 5, max_df=.5)\n",
    "doc_word_cv = vectorizer.fit_transform(documents.pro_words)"
   ]
  },
  {
   "cell_type": "code",
   "execution_count": 21,
   "metadata": {},
   "outputs": [],
   "source": [
    "from sklearn.decomposition import TruncatedSVD\n",
    "\n",
    "lsa = TruncatedSVD(5)\n",
    "tf_topic_lsa = lsa.fit_transform(tf_word)"
   ]
  },
  {
   "cell_type": "code",
   "execution_count": 22,
   "metadata": {},
   "outputs": [],
   "source": [
    "def display_topics(model, feature_names, no_top_words, topic_names=None):\n",
    "    for ix, topic in enumerate(model.components_):\n",
    "        if not topic_names or not topic_names[ix]:\n",
    "            print(\"\\nTopic \", ix)\n",
    "        else:\n",
    "            print(\"\\nTopic: '\",topic_names[ix],\"'\")\n",
    "        print(\", \".join([feature_names[i]\n",
    "                        for i in topic.argsort()[:-no_top_words - 1:-1]]))"
   ]
  },
  {
   "cell_type": "code",
   "execution_count": 23,
   "metadata": {},
   "outputs": [
    {
     "name": "stdout",
     "output_type": "stream",
     "text": [
      "\n",
      "Topic  0\n",
      "staff friendly, helpful staff, staff helpful staff, helpful staff friendly, room clean, location front, location front desk, great location front\n",
      "\n",
      "Topic  1\n",
      "shuttle service, free shuttle, staff helpful shuttle, helpful shuttle, helpful shuttle service, desk free shuttle, shuttle free, free shuttle free\n",
      "\n",
      "Topic  2\n",
      "helpful staff friendly, staff helpful staff, helpful staff, staff friendly, friendly room, staff friendly room, shuttle service, complimentary breakfast\n",
      "\n",
      "Topic  3\n",
      "great location front, floor staff, floor staff helpful, location front desk, location front, th floor staff, th floor, room service\n",
      "\n",
      "Topic  4\n",
      "light rail great, rail great, short walk, rail great location, light rail, location good, great location good, short walk room\n"
     ]
    }
   ],
   "source": [
    "display_topics(lsa, tf.get_feature_names(), 8)"
   ]
  },
  {
   "cell_type": "code",
   "execution_count": 24,
   "metadata": {},
   "outputs": [],
   "source": [
    "from sklearn.decomposition import NMF\n",
    "\n",
    "tf_nmf_model = NMF(5)\n",
    "tf_doc_topic_nmf = tf_nmf_model.fit_transform(tf_word)"
   ]
  },
  {
   "cell_type": "code",
   "execution_count": 25,
   "metadata": {},
   "outputs": [
    {
     "name": "stdout",
     "output_type": "stream",
     "text": [
      "\n",
      "Topic  0\n",
      "helpful staff friendly, staff helpful staff, helpful staff, staff friendly, friendly room, staff friendly room, room clean, friendly room clean, free breakfast breakfast, friendly staff\n",
      "\n",
      "Topic  1\n",
      "shuttle service, free shuttle, helpful shuttle, staff helpful shuttle, helpful shuttle service, desk free shuttle, front desk free, desk free, free shuttle free, shuttle free\n",
      "\n",
      "Topic  2\n",
      "staff helpful room, helpful room, clean comfortable, room clean, staff clean comfortable, staff clean, comfortable breakfast, clean comfortable breakfast, desk staff, friendly staff\n",
      "\n",
      "Topic  3\n",
      "location front, location front desk, great location front, floor staff, floor staff helpful, th floor staff, th floor, room service, location great, location great great\n",
      "\n",
      "Topic  4\n",
      "room spacious, short walk, light rail great, rail great, rail great location, walk room, short walk room, light rail, location good, room spacious room\n"
     ]
    }
   ],
   "source": [
    "display_topics(tf_nmf_model, tf.get_feature_names(), 10)"
   ]
  },
  {
   "cell_type": "code",
   "execution_count": 26,
   "metadata": {},
   "outputs": [],
   "source": [
    "from sklearn.decomposition import LatentDirichletAllocation\n",
    "# Build LDA Model\n",
    "lda_model_sklearn = LatentDirichletAllocation(n_components=5,          # Number of topics\n",
    "                                      max_iter=200,              # Max learning iterations\n",
    "                                      learning_method='online',   \n",
    "                                      random_state=100,          # Random state\n",
    "                                      batch_size=128,            # n docs in each learning iter\n",
    "                                      evaluate_every = -1,       # compute perplexity every n iters, default: Don't\n",
    "                                      n_jobs = -1,               # Use all available CPUs\n",
    "                                     )\n",
    "tf_doc_topic_lda = lda_model_sklearn.fit_transform(tf_word)"
   ]
  },
  {
   "cell_type": "code",
   "execution_count": 277,
   "metadata": {},
   "outputs": [],
   "source": [
    "# lda_model_sklearn.components_"
   ]
  },
  {
   "cell_type": "code",
   "execution_count": 27,
   "metadata": {},
   "outputs": [
    {
     "name": "stdout",
     "output_type": "stream",
     "text": [
      "\n",
      "Topic  0\n",
      "staff friendly, location front desk, location front, helpful staff, staff helpful staff, helpful staff friendly, great location front, room clean\n",
      "\n",
      "Topic  1\n",
      "free shuttle, shuttle service, helpful shuttle, staff helpful shuttle, helpful shuttle service, service room, complimentary breakfast, shuttle service room\n",
      "\n",
      "Topic  2\n",
      "staff helpful room, helpful room, corner room, clean comfortable, room nice, great value, room large, rental car\n",
      "\n",
      "Topic  3\n",
      "free internet, corner room, room clean, room nice, clean comfortable, great value, short walk room, walk room\n",
      "\n",
      "Topic  4\n",
      "breakfast breakfast, free breakfast breakfast, rail great location, light rail great, rail great, living room, helpful staff, staff helpful staff\n"
     ]
    }
   ],
   "source": [
    "display_topics(lda_model_sklearn, vectorizer.get_feature_names(), 8)"
   ]
  },
  {
   "cell_type": "code",
   "execution_count": 28,
   "metadata": {
    "scrolled": false
   },
   "outputs": [
    {
     "name": "stderr",
     "output_type": "stream",
     "text": [
      "/Users/kessiezhang/Desktop/TextMining/.env/lib/python3.7/site-packages/sklearn/feature_extraction/text.py:300: UserWarning: Your stop_words may be inconsistent with your preprocessing. Tokenizing the stop words generated tokens ['sea', 'tac', 'tukwila'] not in stop_words.\n",
      "  'stop_words.' % sorted(inconsistent))\n"
     ]
    }
   ],
   "source": [
    "vectorizer = CountVectorizer(stop_words=stop_words, ngram_range = (2,3), min_df = 5, max_df=.5)\n",
    "doc_word_cv = vectorizer.fit_transform(documents.pro_words)"
   ]
  },
  {
   "cell_type": "code",
   "execution_count": 29,
   "metadata": {},
   "outputs": [],
   "source": [
    "\n",
    "from sklearn.decomposition import TruncatedSVD\n",
    "\n",
    "lsa = TruncatedSVD(5)\n",
    "cv_topic_lsa = lsa.fit_transform(doc_word_cv)"
   ]
  },
  {
   "cell_type": "code",
   "execution_count": 31,
   "metadata": {},
   "outputs": [
    {
     "name": "stdout",
     "output_type": "stream",
     "text": [
      "\n",
      "Topic  0\n",
      "room clean, staff friendly, helpful staff, staff helpful staff, helpful staff friendly, location front, location front desk, great location front\n",
      "\n",
      "Topic  1\n",
      "shuttle service, free shuttle, helpful shuttle service, helpful shuttle, staff helpful shuttle, desk free, front desk free, desk free shuttle\n",
      "\n",
      "Topic  2\n",
      "helpful room, staff helpful room, room clean, location great, clean comfortable, helpful room clean, light rail, room service\n",
      "\n",
      "Topic  3\n",
      "location front desk, location front, great location front, floor staff, floor staff helpful, th floor staff, th floor, room service\n",
      "\n",
      "Topic  4\n",
      "desk staff, clean comfortable, staff helpful room, helpful room, free breakfast, front desk staff, comfortable breakfast, clean comfortable breakfast\n"
     ]
    }
   ],
   "source": [
    "display_topics(lsa, vectorizer.get_feature_names(), 8)"
   ]
  },
  {
   "cell_type": "code",
   "execution_count": 32,
   "metadata": {},
   "outputs": [],
   "source": [
    "from sklearn.decomposition import NMF\n",
    "\n",
    "cv_nmf_model = NMF(5)\n",
    "cv_doc_topic_nmf = cv_nmf_model.fit_transform(doc_word_cv)"
   ]
  },
  {
   "cell_type": "code",
   "execution_count": 33,
   "metadata": {},
   "outputs": [
    {
     "name": "stdout",
     "output_type": "stream",
     "text": [
      "\n",
      "Topic  0\n",
      "staff friendly, staff helpful staff, helpful staff, helpful staff friendly, friendly room, staff friendly room, room clean, friendly room clean, free breakfast breakfast, friendly staff\n",
      "\n",
      "Topic  1\n",
      "shuttle service, free shuttle, desk free, front desk free, staff helpful shuttle, helpful shuttle, helpful shuttle service, desk free shuttle, free breakfast, free shuttle free\n",
      "\n",
      "Topic  2\n",
      "location front, location front desk, great location front, floor staff helpful, floor staff, th floor, th floor staff, location great, room service, room clean\n",
      "\n",
      "Topic  3\n",
      "clean comfortable, room clean, staff helpful room, helpful room, desk staff, staff clean comfortable, staff clean, clean comfortable breakfast, comfortable breakfast, friendly staff\n",
      "\n",
      "Topic  4\n",
      "light rail, light rail great, rail great, rail great location, short walk, short walk room, walk room, location good, great location good, location great\n"
     ]
    }
   ],
   "source": [
    "display_topics(cv_nmf_model, vectorizer.get_feature_names(), 10)"
   ]
  },
  {
   "cell_type": "code",
   "execution_count": 34,
   "metadata": {},
   "outputs": [],
   "source": [
    "from sklearn.decomposition import LatentDirichletAllocation\n",
    "# Build LDA Model\n",
    "lda_model_sklearn = LatentDirichletAllocation(n_components=5,          # Number of topics\n",
    "                                      max_iter=200,              # Max learning iterations\n",
    "                                      learning_method='online',   \n",
    "                                      random_state=100,          # Random state\n",
    "                                      batch_size=128,            # n docs in each learning iter\n",
    "                                      evaluate_every = -1,       # compute perplexity every n iters, default: Don't\n",
    "                                      n_jobs = -1,               # Use all available CPUs\n",
    "                                     )\n",
    "cv_doc_topic_lda = lda_model_sklearn.fit_transform(doc_word_cv)"
   ]
  },
  {
   "cell_type": "code",
   "execution_count": 293,
   "metadata": {},
   "outputs": [],
   "source": [
    "# lda_model_sklearn.components_"
   ]
  },
  {
   "cell_type": "code",
   "execution_count": 35,
   "metadata": {},
   "outputs": [
    {
     "name": "stdout",
     "output_type": "stream",
     "text": [
      "\n",
      "Topic  0\n",
      "location front desk, location front, great location front, staff friendly, helpful staff, staff helpful staff, helpful staff friendly, floor staff helpful\n",
      "\n",
      "Topic  1\n",
      "shuttle service, free shuttle, helpful shuttle, staff helpful shuttle, helpful shuttle service, front desk free, desk free, service room\n",
      "\n",
      "Topic  2\n",
      "clean comfortable, room clean, helpful room, staff helpful room, light rail, clean comfortable breakfast, comfortable breakfast, staff clean comfortable\n",
      "\n",
      "Topic  3\n",
      "room nice, room clean, clean comfortable, room service room, service room, room service, corner room, light rail\n",
      "\n",
      "Topic  4\n",
      "helpful staff, staff helpful staff, helpful staff friendly, staff friendly, breakfast breakfast, free breakfast breakfast, room clean, front desk free\n"
     ]
    }
   ],
   "source": [
    "display_topics(lda_model_sklearn, vectorizer.get_feature_names(), 8)"
   ]
  },
  {
   "cell_type": "markdown",
   "metadata": {},
   "source": [
    "## COSINE SIMILARITY"
   ]
  },
  {
   "cell_type": "code",
   "execution_count": 36,
   "metadata": {},
   "outputs": [],
   "source": [
    "from sklearn.metrics.pairwise import cosine_similarity"
   ]
  },
  {
   "cell_type": "code",
   "execution_count": 37,
   "metadata": {},
   "outputs": [],
   "source": [
    "cosine_sim_lda_cv=cosine_similarity(cv_doc_topic_lda, cv_doc_topic_lda)"
   ]
  },
  {
   "cell_type": "code",
   "execution_count": 38,
   "metadata": {},
   "outputs": [],
   "source": [
    "indices = pd.Series(final_concat_reviews.name)"
   ]
  },
  {
   "cell_type": "code",
   "execution_count": 39,
   "metadata": {},
   "outputs": [
    {
     "data": {
      "text/plain": [
       "'BEST WESTERN PLUS Pioneer Square Hotel'"
      ]
     },
     "execution_count": 39,
     "metadata": {},
     "output_type": "execute_result"
    }
   ],
   "source": [
    "indices[0]"
   ]
  },
  {
   "cell_type": "code",
   "execution_count": 40,
   "metadata": {},
   "outputs": [],
   "source": [
    "def recommendations(title, cosine_sim = cosine_sim_lda_cv):\n",
    "    \n",
    "    recommended_hotel = []\n",
    "    \n",
    "    # gettin the index of the perfume that matches the title\n",
    "    idx = indices[indices == title].index[0]\n",
    "\n",
    "    # creating a Series with the similarity scores in descending order\n",
    "    score_series = pd.Series(cosine_sim[idx]).sort_values(ascending = False)\n",
    "\n",
    "    # getting the indexes of the 5 most similar perfume\n",
    "    top_5_indexes = list(score_series.iloc[1:6].index)\n",
    "    \n",
    "    # populating the list with the titles of the best 10 matching movies\n",
    "    for i in top_5_indexes:\n",
    "        recommended_hotel.append(list(indices)[i])\n",
    "        \n",
    "    return recommended_hotel"
   ]
  },
  {
   "cell_type": "code",
   "execution_count": 41,
   "metadata": {},
   "outputs": [
    {
     "data": {
      "text/plain": [
       "['Hotel Max',\n",
       " 'Inn at Queen Anne',\n",
       " 'Executive Hotel Pacific',\n",
       " 'The Sorrento Hotel',\n",
       " 'Residence Inn Seattle Downtown/Lake Union']"
      ]
     },
     "execution_count": 41,
     "metadata": {},
     "output_type": "execute_result"
    }
   ],
   "source": [
    "recommendations('BEST WESTERN PLUS Pioneer Square Hotel')"
   ]
  },
  {
   "cell_type": "code",
   "execution_count": 43,
   "metadata": {},
   "outputs": [],
   "source": [
    "recommendation_list=[]\n",
    "for i in final_concat_reviews.name:\n",
    "    recommend_hotel=recommendations(i)\n",
    "    recommendation_list.append(recommend_hotel)"
   ]
  },
  {
   "cell_type": "code",
   "execution_count": 44,
   "metadata": {},
   "outputs": [],
   "source": [
    "final_concat_reviews['recommendation']=recommendation_list"
   ]
  },
  {
   "cell_type": "code",
   "execution_count": 45,
   "metadata": {
    "scrolled": true
   },
   "outputs": [
    {
     "data": {
      "text/plain": [
       "offering_id                                                   72572\n",
       "name                         BEST WESTERN PLUS Pioneer Square Hotel\n",
       "latitude                                                    47.6016\n",
       "longitude                                                  -122.335\n",
       "adj_word          [make unplanned visit due passport expensive p...\n",
       "category          [1, 1, 1, 1, 1, 1, 1, 1, 1, 1, 1, 1, 0, 1, 1, ...\n",
       "pros              [(732, staff helpful), (727, staff friendly), ...\n",
       "cons              [(749, staff wonderful), (738, staff helpful p...\n",
       "pro_words         staff helpful, staff friendly, room clean, lig...\n",
       "con_words         staff wonderful, staff helpful parking, rate r...\n",
       "num_review                                                      250\n",
       "recommendation    [Hotel Max, Inn at Queen Anne, Executive Hotel...\n",
       "Name: 0, dtype: object"
      ]
     },
     "execution_count": 45,
     "metadata": {},
     "output_type": "execute_result"
    }
   ],
   "source": [
    "final_concat_reviews.iloc[0]"
   ]
  },
  {
   "cell_type": "code",
   "execution_count": 47,
   "metadata": {},
   "outputs": [],
   "source": [
    "#to pickle\n",
    "export_csv = final_concat_reviews.to_csv (r'Seattle_Hotel_Recommendation.csv', index = None, header=True)"
   ]
  },
  {
   "cell_type": "code",
   "execution_count": null,
   "metadata": {},
   "outputs": [],
   "source": []
  }
 ],
 "metadata": {
  "kernelspec": {
   "display_name": "Python 3",
   "language": "python",
   "name": "python3"
  },
  "language_info": {
   "codemirror_mode": {
    "name": "ipython",
    "version": 3
   },
   "file_extension": ".py",
   "mimetype": "text/x-python",
   "name": "python",
   "nbconvert_exporter": "python",
   "pygments_lexer": "ipython3",
   "version": "3.7.3"
  }
 },
 "nbformat": 4,
 "nbformat_minor": 2
}
